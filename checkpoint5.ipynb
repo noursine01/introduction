{
 "cells": [
  {
   "cell_type": "markdown",
   "metadata": {},
   "source": [
    "# Q1 :"
   ]
  },
  {
   "cell_type": "code",
   "execution_count": 10,
   "metadata": {},
   "outputs": [
    {
     "name": "stdout",
     "output_type": "stream",
     "text": [
      "original array [5 9 2 0 1 7 7 4]\n",
      "array to list\n",
      "[5, 9, 2, 0, 1, 7, 7, 4]\n"
     ]
    }
   ],
   "source": [
    "import numpy as np\n",
    "a= np.array([5,9,2,0,1,7,7,4])\n",
    "print(\"original array\",a)\n",
    "print(\"array to list\")\n",
    "print(a.tolist())"
   ]
  },
  {
   "cell_type": "markdown",
   "metadata": {},
   "source": [
    "# Q2:"
   ]
  },
  {
   "cell_type": "code",
   "execution_count": 22,
   "metadata": {},
   "outputs": [
    {
     "name": "stdout",
     "output_type": "stream",
     "text": [
      "[[0 1 2]\n",
      " [3 4 5]\n",
      " [6 7 8]]\n",
      "12\n",
      "12\n"
     ]
    }
   ],
   "source": [
    "import numpy as np\n",
    "ar= np.array([[0,1,2],[3,4,5],[6,7,8]])\n",
    "print(ar)\n",
    "sum=a+b+c\n",
    "a=ar[0][0]\n",
    "b=ar[1][1]\n",
    "c=ar[2][2]\n",
    "print(sum)\n",
    "a=ar[2][0]\n",
    "b=ar[1][1]\n",
    "c=ar[0][2]\n",
    "sum2=a+b+c\n",
    "print(sum2)"
   ]
  },
  {
   "cell_type": "markdown",
   "metadata": {},
   "source": [
    "# Q3 :"
   ]
  },
  {
   "cell_type": "code",
   "execution_count": 45,
   "metadata": {
    "scrolled": true
   },
   "outputs": [
    {
     "name": "stdout",
     "output_type": "stream",
     "text": [
      "[3, 5]\n"
     ]
    }
   ],
   "source": [
    "import numpy as np\n",
    "a= np.array([[1,2],[3,5]])\n",
    "list=[]\n",
    "x=2\n",
    "if x<a[0][0]:\n",
    "    list.append(a[0][0])\n",
    "if x<a[0][1]:\n",
    "    list.append(a[0][1])\n",
    "if x<a[1][0]:\n",
    "    list.append(a[1][0])\n",
    "if x<a[1][1]:\n",
    "    list.append(a[1][1])\n",
    "print(list)\n"
   ]
  },
  {
   "cell_type": "markdown",
   "metadata": {},
   "source": [
    "# Q4 :"
   ]
  },
  {
   "cell_type": "code",
   "execution_count": 24,
   "metadata": {},
   "outputs": [
    {
     "name": "stdout",
     "output_type": "stream",
     "text": [
      "[12 10 10  7]\n"
     ]
    }
   ],
   "source": [
    "import numpy as np\n",
    "A=np.array([7,8,9,3])\n",
    "B=np.array([5,2,1,4])\n",
    "C=A+B\n",
    "print(C)"
   ]
  },
  {
   "cell_type": "markdown",
   "metadata": {},
   "source": [
    "# Q5 :"
   ]
  },
  {
   "cell_type": "code",
   "execution_count": 35,
   "metadata": {},
   "outputs": [
    {
     "name": "stdout",
     "output_type": "stream",
     "text": [
      "[[0 1 2]\n",
      " [3 4 5]\n",
      " [6 7 8]]\n",
      "1.0\n",
      "4.0\n",
      "7.0\n"
     ]
    }
   ],
   "source": [
    "import numpy as np\n",
    "ar=np.array([[0,1,2],[3,4,5],[6,7,8]])\n",
    "print(ar)\n",
    "m=(ar[0][0]+ar[0][1]+ar[0][2])/len(ar)\n",
    "print(m)\n",
    "m=(ar[1][0]+ar[1][1]+ar[1][2])/len(ar)\n",
    "print(m)\n",
    "m=(ar[2][0]+ar[2][1]+ar[2][2])/len(ar)\n",
    "print(m)"
   ]
  }
 ],
 "metadata": {
  "kernelspec": {
   "display_name": "Python 3",
   "language": "python",
   "name": "python3"
  },
  "language_info": {
   "codemirror_mode": {
    "name": "ipython",
    "version": 3
   },
   "file_extension": ".py",
   "mimetype": "text/x-python",
   "name": "python",
   "nbconvert_exporter": "python",
   "pygments_lexer": "ipython3",
   "version": "3.8.3"
  }
 },
 "nbformat": 4,
 "nbformat_minor": 4
}
