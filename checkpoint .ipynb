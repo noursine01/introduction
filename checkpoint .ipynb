{
 "cells": [
  {
   "cell_type": "markdown",
   "metadata": {},
   "source": [
    "# q1"
   ]
  },
  {
   "cell_type": "code",
   "execution_count": null,
   "metadata": {},
   "outputs": [],
   "source": [
    "first name=input(\"write your first name\")\n",
    "last name=input(\"write your last name\")\n",
    "print(last name,\" \",first name)"
   ]
  },
  {
   "cell_type": "code",
   "execution_count": 19,
   "metadata": {
    "scrolled": true
   },
   "outputs": [
    {
     "name": "stdout",
     "output_type": "stream",
     "text": [
      "give a number5\n",
      "615\n"
     ]
    }
   ],
   "source": [
    "n=int(input(\"give a number\"))\n",
    "print(n+int(str(n) +str(n ) ) +int (str(n) +str(n) +str(n) ))"
   ]
  },
  {
   "cell_type": "code",
   "execution_count": null,
   "metadata": {},
   "outputs": [],
   "source": [
    "n=int(input(\"give a number\"))\n",
    "if n%2==0 :\n",
    "    print(n,\"your number is even\")\n",
    "else : print(n,\"your number is odd\")"
   ]
  },
  {
   "cell_type": "code",
   "execution_count": 27,
   "metadata": {},
   "outputs": [
    {
     "name": "stdout",
     "output_type": "stream",
     "text": [
      "give a year1200\n",
      "it's not a leap year\n"
     ]
    }
   ],
   "source": [
    "n=int(input(\"give a year\"))\n",
    "if n%4==0 and n%100!=0:\n",
    "    print(\"it's a leap year\")\n",
    "else: print(\"it's not a leap year\")"
   ]
  },
  {
   "cell_type": "code",
   "execution_count": 28,
   "metadata": {},
   "outputs": [
    {
     "name": "stdout",
     "output_type": "stream",
     "text": [
      "give a price100\n",
      "the new price is 90\n"
     ]
    }
   ],
   "source": [
    "n=int(input(\"give a price\"))\n",
    "if n>=500 : \n",
    "    print(\"the new price is\",n//2)\n",
    "if n<500 and 200<=n :\n",
    "    print (\"the new price is\",n*70//100)\n",
    "if n<200:\n",
    "    print(\"the new price is\",n*90//100)\n"
   ]
  },
  {
   "cell_type": "code",
   "execution_count": 29,
   "metadata": {},
   "outputs": [
    {
     "name": "stdout",
     "output_type": "stream",
     "text": [
      "give a stringholala\n",
      "hll\n"
     ]
    }
   ],
   "source": [
    "n=input(\"give a string\")\n",
    "ch=\"\"\n",
    "for i in range(0,len(n),2):\n",
    "    ch=ch+n[i]\n",
    "print(ch)\n",
    "    \n",
    "    \n"
   ]
  },
  {
   "cell_type": "code",
   "execution_count": null,
   "metadata": {},
   "outputs": [],
   "source": []
  },
  {
   "cell_type": "code",
   "execution_count": null,
   "metadata": {},
   "outputs": [],
   "source": []
  },
  {
   "cell_type": "code",
   "execution_count": null,
   "metadata": {},
   "outputs": [],
   "source": []
  },
  {
   "cell_type": "code",
   "execution_count": null,
   "metadata": {},
   "outputs": [],
   "source": []
  },
  {
   "cell_type": "code",
   "execution_count": null,
   "metadata": {},
   "outputs": [],
   "source": []
  },
  {
   "cell_type": "code",
   "execution_count": null,
   "metadata": {},
   "outputs": [],
   "source": []
  },
  {
   "cell_type": "code",
   "execution_count": null,
   "metadata": {},
   "outputs": [],
   "source": [
    "  "
   ]
  }
 ],
 "metadata": {
  "kernelspec": {
   "display_name": "Python 3",
   "language": "python",
   "name": "python3"
  },
  "language_info": {
   "codemirror_mode": {
    "name": "ipython",
    "version": 3
   },
   "file_extension": ".py",
   "mimetype": "text/x-python",
   "name": "python",
   "nbconvert_exporter": "python",
   "pygments_lexer": "ipython3",
   "version": "3.8.3"
  }
 },
 "nbformat": 4,
 "nbformat_minor": 4
}
